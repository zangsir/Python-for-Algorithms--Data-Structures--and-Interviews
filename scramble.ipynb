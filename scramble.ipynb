{
 "cells": [
  {
   "cell_type": "markdown",
   "metadata": {},
   "source": [
    "# xrenner"
   ]
  },
  {
   "cell_type": "code",
   "execution_count": null,
   "metadata": {
    "collapsed": true
   },
   "outputs": [],
   "source": []
  },
  {
   "cell_type": "code",
   "execution_count": 3,
   "metadata": {
    "collapsed": false
   },
   "outputs": [],
   "source": [
    "from glob import glob\n",
    "file=\"xrenner/example_in.conll10\"\n",
    "data = glob(file)"
   ]
  },
  {
   "cell_type": "code",
   "execution_count": 4,
   "metadata": {
    "collapsed": false
   },
   "outputs": [
    {
     "data": {
      "text/plain": [
       "['xrenner/example_in.conll10']"
      ]
     },
     "execution_count": 4,
     "metadata": {},
     "output_type": "execute_result"
    }
   ],
   "source": [
    "data"
   ]
  },
  {
   "cell_type": "code",
   "execution_count": 4,
   "metadata": {
    "collapsed": false
   },
   "outputs": [
    {
     "name": "stdout",
     "output_type": "stream",
     "text": [
      "0\n",
      "1\n",
      "=======\n",
      "1\n",
      "1\n",
      "=======\n",
      "1\n",
      "2\n",
      "=======\n",
      "2\n",
      "3\n",
      "=======\n",
      "3\n",
      "5\n",
      "=======\n",
      "5\n",
      "8\n",
      "=======\n",
      "8\n",
      "13\n",
      "=======\n",
      "13\n",
      "21\n",
      "=======\n",
      "21\n",
      "34\n",
      "=======\n",
      "34\n",
      "55\n",
      "=======\n"
     ]
    }
   ],
   "source": [
    "def fibonacci(n, first=0, second=1):\n",
    "    while n != 0:\n",
    "        print(first) \n",
    "        print (second)\n",
    "        print (\"=======\")\n",
    "        # side-effect\n",
    "        n, first, second = n - 1, second, first + second # assignment\n",
    "fibonacci(10)"
   ]
  },
  {
   "cell_type": "code",
   "execution_count": 6,
   "metadata": {
    "collapsed": false
   },
   "outputs": [
    {
     "name": "stdout",
     "output_type": "stream",
     "text": [
      "0\n",
      "1\n",
      "1\n",
      "2\n",
      "3\n",
      "5\n",
      "8\n",
      "13\n",
      "21\n",
      "34\n",
      "\n"
     ]
    }
   ],
   "source": [
    "fibonacci = (lambda n, first=0, second=1:\n",
    "    \"\" if n == 0 else\n",
    "    str(first) + \"\\n\" + fibonacci(n - 1, second, first + second))\n",
    "print(fibonacci(10))"
   ]
  },
  {
   "cell_type": "markdown",
   "metadata": {
    "collapsed": true
   },
   "source": [
    "# coptic tool"
   ]
  },
  {
   "cell_type": "code",
   "execution_count": null,
   "metadata": {
    "collapsed": true
   },
   "outputs": [],
   "source": []
  },
  {
   "cell_type": "code",
   "execution_count": 23,
   "metadata": {
    "collapsed": true
   },
   "outputs": [],
   "source": [
    "def make_options(**kwargs):\n",
    "    if \"file\" in kwargs:\n",
    "        names = open(kwargs[\"file\"],'r').read().replace(\"\\r\",\"\").split(\"\\n\")\n",
    "        #print len(names)\n",
    "        names = list(name[:name.find(\"\\t\")] for name in names)\n",
    "    elif \"names\" in kwargs:\n",
    "        names = kwargs[names]\n",
    "    selected = kwargs[\"selected\"] if \"selected\" in kwargs else None\n",
    "    options=\"\"\n",
    "    for name in names:\n",
    "        if name!='':\n",
    "            options+='<option value=%s>\\n' %name\n",
    "    return options\n",
    "    # SOME CODE TO SERIALIZE TO <option ...>\n",
    "    # If the name is 'selected', add selected=\"selected\"\n",
    "    # return string of <options>\\n"
   ]
  },
  {
   "cell_type": "code",
   "execution_count": null,
   "metadata": {
    "collapsed": true
   },
   "outputs": [],
   "source": []
  },
  {
   "cell_type": "code",
   "execution_count": 19,
   "metadata": {
    "collapsed": false
   },
   "outputs": [
    {
     "name": "stdout",
     "output_type": "stream",
     "text": [
      "40\n",
      "<option value=corpus>\n",
      "<option value=Coptic_edition>\n",
      "<option value=Greek_source>\n",
      "<option value=title>\n",
      "<option value=msltem_title>\n",
      "<option value=author>\n",
      "<option value=language>\n",
      "<option value=annotation>\n",
      "<option value=project>\n",
      "<option value=translation>\n",
      "<option value=msName>\n",
      "<option value=pages_from>\n",
      "<option value=pages_to>\n",
      "<option value=msContents_title@type>\n",
      "<option value=msContents_title@n>\n",
      "<option value=repository>\n",
      "<option value=collection>\n",
      "<option value=idno>\n",
      "<option value=version@n>\n",
      "<option value=version@date>\n",
      "<option value=source_info>\n",
      "<option value=license>\n",
      "<option value=document_cts_urn>\n",
      "<option value=Trismegistos>\n",
      "<option value=objectType>\n",
      "<option value=country>\n",
      "<option value=placeName>\n",
      "<option value=origPlace>\n",
      "<option value=origDate>\n",
      "<option value=origDate_precision>\n",
      "<option value=origDate_notBefore>\n",
      "<option value=origDate_notAfter>\n",
      "<option value=source>\n",
      "<option value=note>\n",
      "<option value=witness>\n",
      "<option value=redundant>\n",
      "<option value=previous>\n",
      "<option value=next>\n",
      "<option value=endnote>\n",
      "\n"
     ]
    }
   ],
   "source": [
    "file='metadata_fields.tab'\n",
    "#or names= a list of valid names\n",
    "opt=make_options(file=file)\n",
    "print opt"
   ]
  },
  {
   "cell_type": "code",
   "execution_count": null,
   "metadata": {
    "collapsed": true
   },
   "outputs": [],
   "source": []
  },
  {
   "cell_type": "code",
   "execution_count": null,
   "metadata": {
    "collapsed": true
   },
   "outputs": [],
   "source": []
  },
  {
   "cell_type": "code",
   "execution_count": 9,
   "metadata": {
    "collapsed": false
   },
   "outputs": [],
   "source": [
    "names = open(file,'r').read().replace(\"\\r\",\"\").split(\"\\n\")\n",
    "t = list(name[:name.find(\"\\t\")] for name in names)"
   ]
  },
  {
   "cell_type": "code",
   "execution_count": 10,
   "metadata": {
    "collapsed": false
   },
   "outputs": [
    {
     "data": {
      "text/plain": [
       "40"
      ]
     },
     "execution_count": 10,
     "metadata": {},
     "output_type": "execute_result"
    }
   ],
   "source": [
    "len(names)"
   ]
  },
  {
   "cell_type": "code",
   "execution_count": 12,
   "metadata": {
    "collapsed": false
   },
   "outputs": [
    {
     "data": {
      "text/plain": [
       "40"
      ]
     },
     "execution_count": 12,
     "metadata": {},
     "output_type": "execute_result"
    }
   ],
   "source": [
    "len(t)"
   ]
  },
  {
   "cell_type": "code",
   "execution_count": 13,
   "metadata": {
    "collapsed": false
   },
   "outputs": [
    {
     "data": {
      "text/plain": [
       "['corpus',\n",
       " 'Coptic_edition',\n",
       " 'Greek_source',\n",
       " 'title',\n",
       " 'msltem_title',\n",
       " 'author',\n",
       " 'language',\n",
       " 'annotation',\n",
       " 'project',\n",
       " 'translation',\n",
       " 'msName',\n",
       " 'pages_from',\n",
       " 'pages_to',\n",
       " 'msContents_title@type',\n",
       " 'msContents_title@n',\n",
       " 'repository',\n",
       " 'collection',\n",
       " 'idno',\n",
       " 'version@n',\n",
       " 'version@date',\n",
       " 'source_info',\n",
       " 'license',\n",
       " 'document_cts_urn',\n",
       " 'Trismegistos',\n",
       " 'objectType',\n",
       " 'country',\n",
       " 'placeName',\n",
       " 'origPlace',\n",
       " 'origDate',\n",
       " 'origDate_precision',\n",
       " 'origDate_notBefore',\n",
       " 'origDate_notAfter',\n",
       " 'source',\n",
       " 'note',\n",
       " 'witness',\n",
       " 'redundant',\n",
       " 'previous',\n",
       " 'next',\n",
       " 'endnote',\n",
       " '']"
      ]
     },
     "execution_count": 13,
     "metadata": {},
     "output_type": "execute_result"
    }
   ],
   "source": [
    "t"
   ]
  },
  {
   "cell_type": "code",
   "execution_count": null,
   "metadata": {
    "collapsed": true
   },
   "outputs": [],
   "source": []
  },
  {
   "cell_type": "code",
   "execution_count": null,
   "metadata": {
    "collapsed": true
   },
   "outputs": [],
   "source": []
  },
  {
   "cell_type": "code",
   "execution_count": null,
   "metadata": {
    "collapsed": true
   },
   "outputs": [],
   "source": []
  },
  {
   "cell_type": "code",
   "execution_count": 14,
   "metadata": {
    "collapsed": false
   },
   "outputs": [
    {
     "name": "stdout",
     "output_type": "stream",
     "text": [
      "True\n"
     ]
    }
   ],
   "source": [
    "head=None\n",
    "if not head:\n",
    "    print True"
   ]
  },
  {
   "cell_type": "code",
   "execution_count": null,
   "metadata": {
    "collapsed": true
   },
   "outputs": [],
   "source": []
  },
  {
   "cell_type": "code",
   "execution_count": 15,
   "metadata": {
    "collapsed": false
   },
   "outputs": [
    {
     "name": "stdout",
     "output_type": "stream",
     "text": [
      "40\n"
     ]
    }
   ],
   "source": []
  },
  {
   "cell_type": "code",
   "execution_count": 17,
   "metadata": {
    "collapsed": false
   },
   "outputs": [
    {
     "name": "stdout",
     "output_type": "stream",
     "text": [
      "<option value=corpus>\n",
      "<option value=Coptic_edition>\n",
      "<option value=Greek_source>\n",
      "<option value=title>\n",
      "<option value=msltem_title>\n",
      "<option value=author>\n",
      "<option value=language>\n",
      "<option value=annotation>\n",
      "<option value=project>\n",
      "<option value=translation>\n",
      "<option value=msName>\n",
      "<option value=pages_from>\n",
      "<option value=pages_to>\n",
      "<option value=msContents_title@type>\n",
      "<option value=msContents_title@n>\n",
      "<option value=repository>\n",
      "<option value=collection>\n",
      "<option value=idno>\n",
      "<option value=version@n>\n",
      "<option value=version@date>\n",
      "<option value=source_info>\n",
      "<option value=license>\n",
      "<option value=document_cts_urn>\n",
      "<option value=Trismegistos>\n",
      "<option value=objectType>\n",
      "<option value=country>\n",
      "<option value=placeName>\n",
      "<option value=origPlace>\n",
      "<option value=origDate>\n",
      "<option value=origDate_precision>\n",
      "<option value=origDate_notBefore>\n",
      "<option value=origDate_notAfter>\n",
      "<option value=source>\n",
      "<option value=note>\n",
      "<option value=witness>\n",
      "<option value=redundant>\n",
      "<option value=previous>\n",
      "<option value=next>\n",
      "<option value=endnote>\n",
      "<option value=>\n",
      "\n"
     ]
    }
   ],
   "source": [
    "print opt"
   ]
  },
  {
   "cell_type": "code",
   "execution_count": null,
   "metadata": {
    "collapsed": true
   },
   "outputs": [],
   "source": []
  },
  {
   "cell_type": "code",
   "execution_count": null,
   "metadata": {
    "collapsed": true
   },
   "outputs": [],
   "source": []
  },
  {
   "cell_type": "code",
   "execution_count": 20,
   "metadata": {
    "collapsed": false
   },
   "outputs": [
    {
     "data": {
      "text/plain": [
       "'some tabb call'"
      ]
     },
     "execution_count": 20,
     "metadata": {},
     "output_type": "execute_result"
    }
   ],
   "source": [
    "a='some tab call'\n",
    "a.replace('tab','tabb')"
   ]
  },
  {
   "cell_type": "code",
   "execution_count": 24,
   "metadata": {
    "collapsed": true
   },
   "outputs": [],
   "source": [
    "def gen_meta_popup():\n",
    "    popup_meta_html=\"\"\"\n",
    "    <HTML>\n",
    "    <HEAD>\n",
    "    <SCRIPT LANGUAGE=\"JavaScript\"><!--\n",
    "    function copyForm() {\n",
    "        opener.document.hiddenForm.metakey.value = document.popupForm.metakey.value;\n",
    "        opener.document.hiddenForm.metavalue.value = document.popupForm.metavalue.value;\n",
    "\n",
    "        opener.document.hiddenForm.submit();\n",
    "        window.close();\n",
    "        return false;\n",
    "    }\n",
    "    //--></SCRIPT>\n",
    "    </HEAD>\n",
    "    <BODY>\n",
    "    <FORM NAME=\"popupForm\" onSubmit=\"return copyForm()\">\n",
    "    meta key (e.g.,year):<br>\n",
    "    <input list=\"metakeys\" name=\"metakey\">\n",
    "    <datalist id=\"metakeys\">\n",
    "        ***options***\n",
    "    </datalist>\n",
    "    <br>\n",
    "    meta value(e.g.,200BC):<br>\n",
    "    <input type=\"text\" name='metavalue'><br>\n",
    "    <INPUT TYPE=\"BUTTON\" VALUE=\"Submit\" onClick=\"copyForm()\">\n",
    "    </FORM>\n",
    "    </BODY>\n",
    "    </HTML>\n",
    "\n",
    "\n",
    "    \"\"\"\n",
    "    options=make_options(file='metadata_fields.tab')\n",
    "    popup_meta_html=popup_meta_html.replace(\"***options***\",options)\n",
    "    f=open('popupPage.html','w')\n",
    "    f.write(popup_meta_html)\n",
    "\n"
   ]
  },
  {
   "cell_type": "code",
   "execution_count": null,
   "metadata": {
    "collapsed": true
   },
   "outputs": [],
   "source": []
  },
  {
   "cell_type": "code",
   "execution_count": 25,
   "metadata": {
    "collapsed": false
   },
   "outputs": [],
   "source": [
    "gen_meta_popup()"
   ]
  },
  {
   "cell_type": "code",
   "execution_count": 26,
   "metadata": {
    "collapsed": true
   },
   "outputs": [],
   "source": [
    "doc_name=\"shuo zhang\"\n",
    "edit_docname = \"\"\"<input type='text' name='edit_docname' value=%s> <input type='submit' value='change'>\"\"\" %doc_name"
   ]
  },
  {
   "cell_type": "code",
   "execution_count": 27,
   "metadata": {
    "collapsed": false
   },
   "outputs": [
    {
     "data": {
      "text/plain": [
       "\"<input type='text' name='edit_docname' value=shuo zhang> <input type='submit' value='change'>\""
      ]
     },
     "execution_count": 27,
     "metadata": {},
     "output_type": "execute_result"
    }
   ],
   "source": [
    "edit_docname"
   ]
  },
  {
   "cell_type": "code",
   "execution_count": 30,
   "metadata": {
    "collapsed": true
   },
   "outputs": [],
   "source": [
    "import sqlite3\n"
   ]
  },
  {
   "cell_type": "code",
   "execution_count": null,
   "metadata": {
    "collapsed": true
   },
   "outputs": [],
   "source": []
  },
  {
   "cell_type": "code",
   "execution_count": null,
   "metadata": {
    "collapsed": true
   },
   "outputs": [],
   "source": []
  },
  {
   "cell_type": "code",
   "execution_count": 5,
   "metadata": {
    "collapsed": true
   },
   "outputs": [],
   "source": [
    "sel"
   ]
  },
  {
   "cell_type": "code",
   "execution_count": 28,
   "metadata": {
    "collapsed": false
   },
   "outputs": [
    {
     "name": "stdout",
     "output_type": "stream",
     "text": [
      "/Applications/MAMP/htdocs/coptic-xml-tool\n"
     ]
    }
   ],
   "source": [
    "cd /Applications/MAMP/htdocs/coptic-xml-tool/"
   ]
  },
  {
   "cell_type": "code",
   "execution_count": 29,
   "metadata": {
    "collapsed": false
   },
   "outputs": [
    {
     "name": "stdout",
     "output_type": "stream",
     "text": [
      ".DS_Store            editor_codemir.html  popupPage.html\r\n",
      "\u001b[1m\u001b[34m.git\u001b[m\u001b[m/                hwak.txt             \u001b[1m\u001b[34mtemplates\u001b[m\u001b[m/\r\n",
      "README.md            \u001b[1m\u001b[34mimg\u001b[m\u001b[m/                 test-popup.py\r\n",
      "\u001b[1m\u001b[34mcodemirror-5.15.2\u001b[m\u001b[m/   \u001b[1m\u001b[32mlanding.py\u001b[m\u001b[m*          \u001b[1m\u001b[34musers\u001b[m\u001b[m/\r\n",
      "coptic.db            metadata_fields.tab\r\n",
      "\u001b[1m\u001b[32meditor.py\u001b[m\u001b[m*           \u001b[1m\u001b[34mmodules\u001b[m\u001b[m/\r\n"
     ]
    }
   ],
   "source": [
    "ls"
   ]
  },
  {
   "cell_type": "code",
   "execution_count": 35,
   "metadata": {
    "collapsed": false
   },
   "outputs": [],
   "source": [
    "\n",
    "dbpath = \"coptic.db\"\n",
    "conn = sqlite3.connect(dbpath)\n",
    "cur = conn.cursor()\n",
    "\n",
    "cur.execute('''CREATE TABLE IF NOT EXISTS metadata (docid INTEGER, metaid INTEGER, key text UNIQUE, value text, FOREIGN KEY (docid) REFERENCES users(id), UNIQUE (docid, metaid) ON CONFLICT REPLACE)''')\n",
    "\n",
    "\n",
    "conn.commit()\n",
    "conn.close()"
   ]
  },
  {
   "cell_type": "markdown",
   "metadata": {
    "collapsed": true
   },
   "source": [
    "# leetcode"
   ]
  },
  {
   "cell_type": "code",
   "execution_count": 9,
   "metadata": {
    "collapsed": false
   },
   "outputs": [
    {
     "name": "stdout",
     "output_type": "stream",
     "text": [
      "0\n",
      "1\n",
      "12\n",
      "123\n"
     ]
    }
   ],
   "source": [
    "#string-to-integer-atoi.py\n",
    "str='123'\n",
    "INT_MAX =  2147483647\n",
    "INT_MIN = -2147483648\n",
    "result = 0\n",
    "\n",
    "if not str:\n",
    "    print result\n",
    "\n",
    "i = 0\n",
    "while i < len(str) and str[i] == \" \":\n",
    "    i += 1\n",
    "\n",
    "sign = 1\n",
    "if str[i] == \"+\":\n",
    "    i += 1\n",
    "elif str[i] == \"-\":\n",
    "    sign = -1\n",
    "    i += 1\n",
    "\n",
    "while i < len(str) and str[i] >= '0' and str[i] <= '9':\n",
    "    print result\n",
    "    if result > (INT_MAX - (ord(str[i]) - ord('0'))) / 10:\n",
    "        print INT_MAX if sign > 0 else INT_MIN\n",
    "    result = result * 10 + ord(str[i]) - ord('0')\n",
    "    i += 1\n",
    "print result"
   ]
  },
  {
   "cell_type": "code",
   "execution_count": null,
   "metadata": {
    "collapsed": true
   },
   "outputs": [],
   "source": [
    "def add(a, b): \n",
    "    while (b != 0):\n",
    "        c = a & b  \n",
    "        a = a ^ b  \n",
    "        b = c << 1\n",
    "    \n",
    "    return a\n"
   ]
  },
  {
   "cell_type": "markdown",
   "metadata": {},
   "source": [
    "# reverse linked list"
   ]
  },
  {
   "cell_type": "code",
   "execution_count": 8,
   "metadata": {
    "collapsed": false
   },
   "outputs": [
    {
     "name": "stdout",
     "output_type": "stream",
     "text": [
      "4\n"
     ]
    }
   ],
   "source": [
    "# Definition for singly-linked list.\n",
    "class ListNode(object):\n",
    "    def __init__(self, x):\n",
    "        self.val = x\n",
    "        self.next = None\n",
    "    \n",
    "    def __repr__(self):\n",
    "       return str(self.val)\n",
    "\n",
    "class Solution(object):\n",
    "    def reverseList(self, head):\n",
    "        \"\"\"\n",
    "        :type head: ListNode\n",
    "        :rtype: ListNode\n",
    "        \"\"\"\n",
    "        #print head\n",
    "        if not head:\n",
    "            return None\n",
    "        if head.next==None:\n",
    "            return head\n",
    "        current=head\n",
    "        next_node=current.next\n",
    "        \n",
    "        while next_node:\n",
    "            \n",
    "            next_next_node=next_node.next\n",
    "            next_node.next=current\n",
    "            if current==head:\n",
    "                current.next=None\n",
    "            current=next_node\n",
    "            next_node=next_next_node\n",
    "        \n",
    "        return current\n",
    "\n",
    "a=ListNode(1)\n",
    "b=ListNode(2)\n",
    "c=ListNode(3)\n",
    "d=ListNode(4)\n",
    "a.next=b\n",
    "b.next=c\n",
    "c.next=d\n",
    "\n",
    "print Solution().reverseList(a)"
   ]
  },
  {
   "cell_type": "code",
   "execution_count": null,
   "metadata": {
    "collapsed": true
   },
   "outputs": [],
   "source": []
  },
  {
   "cell_type": "code",
   "execution_count": null,
   "metadata": {
    "collapsed": true
   },
   "outputs": [],
   "source": []
  },
  {
   "cell_type": "code",
   "execution_count": null,
   "metadata": {
    "collapsed": true
   },
   "outputs": [],
   "source": []
  },
  {
   "cell_type": "code",
   "execution_count": null,
   "metadata": {
    "collapsed": true
   },
   "outputs": [],
   "source": []
  },
  {
   "cell_type": "code",
   "execution_count": null,
   "metadata": {
    "collapsed": true
   },
   "outputs": [],
   "source": []
  },
  {
   "cell_type": "code",
   "execution_count": 2,
   "metadata": {
    "collapsed": true
   },
   "outputs": [],
   "source": [
    "a=ListNode(1)\n",
    "b=ListNode(2)\n",
    "c=ListNode(3)\n",
    "d=ListNode(4)\n",
    "a.next=b\n",
    "b.next=c\n",
    "c.next=d\n"
   ]
  },
  {
   "cell_type": "code",
   "execution_count": null,
   "metadata": {
    "collapsed": true
   },
   "outputs": [],
   "source": []
  },
  {
   "cell_type": "code",
   "execution_count": null,
   "metadata": {
    "collapsed": true
   },
   "outputs": [],
   "source": []
  },
  {
   "cell_type": "code",
   "execution_count": 25,
   "metadata": {
    "collapsed": false
   },
   "outputs": [
    {
     "data": {
      "text/plain": [
       "1"
      ]
     },
     "execution_count": 25,
     "metadata": {},
     "output_type": "execute_result"
    }
   ],
   "source": [
    "a.val"
   ]
  },
  {
   "cell_type": "code",
   "execution_count": null,
   "metadata": {
    "collapsed": true
   },
   "outputs": [],
   "source": []
  },
  {
   "cell_type": "code",
   "execution_count": 26,
   "metadata": {
    "collapsed": false
   },
   "outputs": [
    {
     "data": {
      "text/plain": [
       "<__main__.ListNode at 0x105199b10>"
      ]
     },
     "execution_count": 26,
     "metadata": {},
     "output_type": "execute_result"
    }
   ],
   "source": [
    "a.next"
   ]
  },
  {
   "cell_type": "code",
   "execution_count": null,
   "metadata": {
    "collapsed": true
   },
   "outputs": [],
   "source": []
  },
  {
   "cell_type": "code",
   "execution_count": null,
   "metadata": {
    "collapsed": true
   },
   "outputs": [],
   "source": []
  },
  {
   "cell_type": "code",
   "execution_count": null,
   "metadata": {
    "collapsed": true
   },
   "outputs": [],
   "source": []
  },
  {
   "cell_type": "code",
   "execution_count": 3,
   "metadata": {
    "collapsed": false
   },
   "outputs": [],
   "source": [
    "head=a\n",
    "current=head\n",
    "next_node=current.next\n",
    "\n",
    "while next_node:\n",
    "\n",
    "    next_next_node=next_node.next\n",
    "    next_node.next=current\n",
    "    if current==head:\n",
    "        current.next=None\n",
    "    current=next_node\n",
    "    next_node=next_next_node\n",
    "    #next_node.next=current"
   ]
  },
  {
   "cell_type": "code",
   "execution_count": null,
   "metadata": {
    "collapsed": true
   },
   "outputs": [],
   "source": []
  },
  {
   "cell_type": "code",
   "execution_count": 4,
   "metadata": {
    "collapsed": false
   },
   "outputs": [
    {
     "name": "stdout",
     "output_type": "stream",
     "text": [
      "1 None\n",
      "2 1\n",
      "3 2\n",
      "4 3\n"
     ]
    }
   ],
   "source": [
    "print a.val,a.next\n",
    "print b.val,b.next.val\n",
    "print c.val,c.next.val\n",
    "print d.val,d.next.val"
   ]
  },
  {
   "cell_type": "code",
   "execution_count": 5,
   "metadata": {
    "collapsed": false
   },
   "outputs": [
    {
     "name": "stdout",
     "output_type": "stream",
     "text": [
      "5 -> 4 -> 3 -> 2 -> 1 -> None\n"
     ]
    }
   ],
   "source": [
    "class ListNode:\n",
    "    def __init__(self, x):\n",
    "        self.val = x\n",
    "        self.next = None\n",
    "    \n",
    "    #def __repr__(self):\n",
    "      #  if self:\n",
    "         #   return \"{} -> {}\".format(self.val, repr(self.next))\n",
    "\n",
    "# Iterative solution.\n",
    "class Solution:\n",
    "    # @param {ListNode} head\n",
    "    # @return {ListNode}\n",
    "    def reverseList(self, head):\n",
    "        dummy = ListNode(float(\"-inf\"))\n",
    "        while head:\n",
    "            dummy.next, head.next, head = head, dummy.next, head.next\n",
    "        return dummy.next\n",
    "\n",
    "# Time:  O(n)\n",
    "# Space: O(n)\n",
    "# Recursive solution.  \n",
    "class Solution2:\n",
    "    # @param {ListNode} head\n",
    "    # @return {ListNode}\n",
    "    def reverseList(self, head):\n",
    "        [begin, end] = self.reverseListRecu(head)\n",
    "        return begin\n",
    "    \n",
    "    def reverseListRecu(self, head):\n",
    "        if not head:\n",
    "            return [None, None]\n",
    "            \n",
    "        [begin, end] = self.reverseListRecu(head.next)\n",
    "        \n",
    "        if end:\n",
    "            end.next = head\n",
    "            head.next = None\n",
    "            return [begin, head]\n",
    "        else:\n",
    "            return [head, head]\n",
    "        \n",
    "if __name__ == \"__main__\":\n",
    "    head = ListNode(1)\n",
    "    head.next = ListNode(2)\n",
    "    head.next.next = ListNode(3)\n",
    "    head.next.next.next = ListNode(4)\n",
    "    head.next.next.next.next = ListNode(5)\n",
    "    print Solution2().reverseList(head)"
   ]
  },
  {
   "cell_type": "markdown",
   "metadata": {
    "collapsed": true
   },
   "source": [
    "## facebook question: wildcard"
   ]
  },
  {
   "cell_type": "code",
   "execution_count": null,
   "metadata": {
    "collapsed": true
   },
   "outputs": [],
   "source": []
  },
  {
   "cell_type": "markdown",
   "metadata": {},
   "source": [
    "implement a function that can search for substrings and returns matches from a list of strings:\n",
    "\n",
    "l=['pool','poll','pale','cool']\n",
    "\n",
    "if you search p..l you will find 'pool', 'poll'. \n",
    "\n",
    "if you search .o.l you'll find 'pool','cool','poll'\n",
    "\n",
    "if you search for p.l. you'll find 'poll','pale'. "
   ]
  },
  {
   "cell_type": "code",
   "execution_count": null,
   "metadata": {
    "collapsed": true
   },
   "outputs": [],
   "source": []
  },
  {
   "cell_type": "code",
   "execution_count": null,
   "metadata": {
    "collapsed": true
   },
   "outputs": [],
   "source": []
  },
  {
   "cell_type": "markdown",
   "metadata": {
    "collapsed": true
   },
   "source": [
    "# tree level order print"
   ]
  },
  {
   "cell_type": "code",
   "execution_count": 33,
   "metadata": {
    "collapsed": true
   },
   "outputs": [],
   "source": [
    "import collections\n",
    "class Node:\n",
    "    def __init__(self, val=None):\n",
    "        self.left, self.right, self.val = None, None, val        \n",
    "    def __repr__(self):\n",
    "        return str(self.val)\n",
    "\n",
    "def levelOrderPrint(tree):#input is really the root\n",
    "    if not tree:\n",
    "        return\n",
    "    nodes=collections.deque([tree])\n",
    "    currentCount, nextCount = 1, 0\n",
    "    while len(nodes)!=0:\n",
    "        currentNode=nodes.popleft()\n",
    "        currentCount-=1\n",
    "        print currentNode.val,\n",
    "        if currentNode.left:\n",
    "            nodes.append(currentNode.left)\n",
    "            nextCount+=1\n",
    "        if currentNode.right:\n",
    "            nodes.append(currentNode.right)\n",
    "            nextCount+=1\n",
    "        if currentCount==0:\n",
    "            #finished printing current level\n",
    "            print '\\n',\n",
    "            currentCount, nextCount = nextCount, currentCount\n"
   ]
  },
  {
   "cell_type": "code",
   "execution_count": null,
   "metadata": {
    "collapsed": true
   },
   "outputs": [],
   "source": []
  },
  {
   "cell_type": "code",
   "execution_count": 34,
   "metadata": {
    "collapsed": false
   },
   "outputs": [
    {
     "name": "stdout",
     "output_type": "stream",
     "text": [
      "1 \n",
      "2 3 \n",
      "4 5 \n"
     ]
    }
   ],
   "source": [
    "levelOrderPrint(a)"
   ]
  },
  {
   "cell_type": "code",
   "execution_count": null,
   "metadata": {
    "collapsed": true
   },
   "outputs": [],
   "source": []
  },
  {
   "cell_type": "code",
   "execution_count": null,
   "metadata": {
    "collapsed": true
   },
   "outputs": [],
   "source": []
  },
  {
   "cell_type": "code",
   "execution_count": 55,
   "metadata": {
    "collapsed": true
   },
   "outputs": [],
   "source": [
    "def bfs(root):\n",
    "    queue=[root]\n",
    "    visited=[]\n",
    "    curLevel=[]\n",
    "    currentCount=1\n",
    "    nextCount=0\n",
    "    while queue:\n",
    "        \n",
    "        v=queue.pop(0)\n",
    "        curLevel.append(v)\n",
    "        currentCount-=1\n",
    "        if v.left:\n",
    "            queue.append(v.left)\n",
    "            nextCount+=1\n",
    "        if v.right:\n",
    "            queue.append(v.right)\n",
    "            nextCount+=1\n",
    "        if currentCount==0:\n",
    "            #print \"curLevel:\",curLevel\n",
    "            visited.append(curLevel)\n",
    "            currentCount=nextCount\n",
    "            nextCount=0\n",
    "            curLevel=[]\n",
    "    return visited"
   ]
  },
  {
   "cell_type": "code",
   "execution_count": null,
   "metadata": {
    "collapsed": true
   },
   "outputs": [],
   "source": []
  },
  {
   "cell_type": "code",
   "execution_count": null,
   "metadata": {
    "collapsed": true
   },
   "outputs": [],
   "source": []
  },
  {
   "cell_type": "code",
   "execution_count": null,
   "metadata": {
    "collapsed": true
   },
   "outputs": [],
   "source": []
  },
  {
   "cell_type": "code",
   "execution_count": 56,
   "metadata": {
    "collapsed": false
   },
   "outputs": [
    {
     "data": {
      "text/plain": [
       "[[1], [2, 3], [4, 5]]"
      ]
     },
     "execution_count": 56,
     "metadata": {},
     "output_type": "execute_result"
    }
   ],
   "source": [
    "bfs(a)"
   ]
  },
  {
   "cell_type": "markdown",
   "metadata": {},
   "source": [
    "## root to leaf path"
   ]
  },
  {
   "cell_type": "code",
   "execution_count": null,
   "metadata": {
    "collapsed": true
   },
   "outputs": [],
   "source": [
    "def dfs(root):\n",
    "    stack=[root]\n",
    "    visited=[]\n",
    "    while stack:\n",
    "        v=stack.pop()\n",
    "        if v.left:\n",
    "            "
   ]
  },
  {
   "cell_type": "code",
   "execution_count": 66,
   "metadata": {
    "collapsed": true
   },
   "outputs": [],
   "source": [
    "class Solution:\n",
    "    # @param {TreeNode} root\n",
    "    # @return {string[]}\n",
    "    def binaryTreePaths(self, root):\n",
    "        result, path = [], []\n",
    "        self.binaryTreePathsRecu(root, path, result)\n",
    "        return result\n",
    "    \n",
    "    def binaryTreePathsRecu(self, node, path, result):\n",
    "        print path\n",
    "        if node is None:\n",
    "            return\n",
    "\n",
    "        if node.left is node.right is None:\n",
    "            ans = \"\"\n",
    "            print path\n",
    "            for n in path:\n",
    "                ans += str(n.val) + \"->\"\n",
    "            result.append(ans + str(node.val))\n",
    "\n",
    "        if node.left:\n",
    "            path.append(node)\n",
    "            self.binaryTreePathsRecu(node.left, path, result)\n",
    "            \n",
    "            path.pop()\n",
    "           \n",
    "        if node.right:\n",
    "            path.append(node)\n",
    "            self.binaryTreePathsRecu(node.right, path, result)\n",
    "            path.pop()\n"
   ]
  },
  {
   "cell_type": "code",
   "execution_count": null,
   "metadata": {
    "collapsed": true
   },
   "outputs": [],
   "source": []
  },
  {
   "cell_type": "code",
   "execution_count": 68,
   "metadata": {
    "collapsed": false
   },
   "outputs": [
    {
     "name": "stdout",
     "output_type": "stream",
     "text": [
      "[]\n",
      "[1]\n",
      "[1, 2]\n",
      "[1, 2]\n",
      "[1, 2]\n",
      "[1, 2]\n",
      "[1]\n",
      "[1]\n"
     ]
    },
    {
     "data": {
      "text/plain": [
       "['1->2->4', '1->2->5', '1->3']"
      ]
     },
     "execution_count": 68,
     "metadata": {},
     "output_type": "execute_result"
    }
   ],
   "source": [
    "Solution().binaryTreePaths(a)"
   ]
  },
  {
   "cell_type": "code",
   "execution_count": null,
   "metadata": {
    "collapsed": true
   },
   "outputs": [],
   "source": []
  },
  {
   "cell_type": "code",
   "execution_count": 74,
   "metadata": {
    "collapsed": false
   },
   "outputs": [
    {
     "name": "stdout",
     "output_type": "stream",
     "text": [
      "2\n",
      "1\n",
      "0\n",
      "['ji', 'ha', 'so']\n"
     ]
    }
   ],
   "source": [
    "s='  so ha   ji'\n",
    "a=s.split()\n",
    "out=[]\n",
    "for i in range(len(a)-1,-1,-1):\n",
    "    print i\n",
    "    out.append(a[i])\n",
    "print out"
   ]
  },
  {
   "cell_type": "code",
   "execution_count": null,
   "metadata": {
    "collapsed": true
   },
   "outputs": [],
   "source": []
  },
  {
   "cell_type": "code",
   "execution_count": null,
   "metadata": {
    "collapsed": true
   },
   "outputs": [],
   "source": []
  },
  {
   "cell_type": "code",
   "execution_count": null,
   "metadata": {
    "collapsed": true
   },
   "outputs": [],
   "source": []
  },
  {
   "cell_type": "code",
   "execution_count": null,
   "metadata": {
    "collapsed": true
   },
   "outputs": [],
   "source": []
  },
  {
   "cell_type": "code",
   "execution_count": 70,
   "metadata": {
    "collapsed": false
   },
   "outputs": [
    {
     "data": {
      "text/plain": [
       "['so', 'ha', 'ji']"
      ]
     },
     "execution_count": 70,
     "metadata": {},
     "output_type": "execute_result"
    }
   ],
   "source": [
    "a"
   ]
  },
  {
   "cell_type": "code",
   "execution_count": null,
   "metadata": {
    "collapsed": true
   },
   "outputs": [],
   "source": []
  },
  {
   "cell_type": "code",
   "execution_count": null,
   "metadata": {
    "collapsed": true
   },
   "outputs": [],
   "source": []
  },
  {
   "cell_type": "code",
   "execution_count": null,
   "metadata": {
    "collapsed": true
   },
   "outputs": [],
   "source": []
  },
  {
   "cell_type": "code",
   "execution_count": null,
   "metadata": {
    "collapsed": true
   },
   "outputs": [],
   "source": []
  },
  {
   "cell_type": "code",
   "execution_count": null,
   "metadata": {
    "collapsed": true
   },
   "outputs": [],
   "source": []
  },
  {
   "cell_type": "code",
   "execution_count": null,
   "metadata": {
    "collapsed": true
   },
   "outputs": [],
   "source": []
  },
  {
   "cell_type": "code",
   "execution_count": null,
   "metadata": {
    "collapsed": true
   },
   "outputs": [],
   "source": []
  },
  {
   "cell_type": "code",
   "execution_count": null,
   "metadata": {
    "collapsed": true
   },
   "outputs": [],
   "source": []
  },
  {
   "cell_type": "code",
   "execution_count": null,
   "metadata": {
    "collapsed": true
   },
   "outputs": [],
   "source": []
  },
  {
   "cell_type": "code",
   "execution_count": null,
   "metadata": {
    "collapsed": true
   },
   "outputs": [],
   "source": []
  },
  {
   "cell_type": "code",
   "execution_count": null,
   "metadata": {
    "collapsed": true
   },
   "outputs": [],
   "source": []
  },
  {
   "cell_type": "code",
   "execution_count": null,
   "metadata": {
    "collapsed": true
   },
   "outputs": [],
   "source": []
  },
  {
   "cell_type": "code",
   "execution_count": null,
   "metadata": {
    "collapsed": true
   },
   "outputs": [],
   "source": []
  },
  {
   "cell_type": "code",
   "execution_count": null,
   "metadata": {
    "collapsed": true
   },
   "outputs": [],
   "source": []
  },
  {
   "cell_type": "code",
   "execution_count": null,
   "metadata": {
    "collapsed": true
   },
   "outputs": [],
   "source": []
  },
  {
   "cell_type": "raw",
   "metadata": {},
   "source": [
    "    1\n",
    "   /\\\n",
    "  2  3\n",
    " /\\   \n",
    "4  5  "
   ]
  },
  {
   "cell_type": "code",
   "execution_count": null,
   "metadata": {
    "collapsed": true
   },
   "outputs": [],
   "source": []
  },
  {
   "cell_type": "code",
   "execution_count": null,
   "metadata": {
    "collapsed": true
   },
   "outputs": [],
   "source": []
  },
  {
   "cell_type": "code",
   "execution_count": 29,
   "metadata": {
    "collapsed": true
   },
   "outputs": [],
   "source": [
    "a=Node(1)\n",
    "b=Node(2)\n",
    "c=Node(3)\n",
    "d=Node(4)\n",
    "e=Node(5)\n",
    "a.left,a.right=b,c\n",
    "b.left,b.right=d,e\n"
   ]
  },
  {
   "cell_type": "code",
   "execution_count": null,
   "metadata": {
    "collapsed": true
   },
   "outputs": [],
   "source": []
  },
  {
   "cell_type": "code",
   "execution_count": null,
   "metadata": {
    "collapsed": true
   },
   "outputs": [],
   "source": []
  },
  {
   "cell_type": "code",
   "execution_count": 20,
   "metadata": {
    "collapsed": false
   },
   "outputs": [
    {
     "name": "stdout",
     "output_type": "stream",
     "text": [
      "1 \n",
      "2 3 \n",
      "5 4 \n",
      "2 3 4 5 4 5\n"
     ]
    }
   ],
   "source": []
  },
  {
   "cell_type": "code",
   "execution_count": null,
   "metadata": {
    "collapsed": true
   },
   "outputs": [],
   "source": []
  },
  {
   "cell_type": "code",
   "execution_count": null,
   "metadata": {
    "collapsed": true
   },
   "outputs": [],
   "source": []
  },
  {
   "cell_type": "code",
   "execution_count": null,
   "metadata": {
    "collapsed": true
   },
   "outputs": [],
   "source": []
  },
  {
   "cell_type": "code",
   "execution_count": null,
   "metadata": {
    "collapsed": true
   },
   "outputs": [],
   "source": []
  },
  {
   "cell_type": "code",
   "execution_count": null,
   "metadata": {
    "collapsed": true
   },
   "outputs": [],
   "source": []
  },
  {
   "cell_type": "code",
   "execution_count": null,
   "metadata": {
    "collapsed": true
   },
   "outputs": [],
   "source": []
  },
  {
   "cell_type": "code",
   "execution_count": null,
   "metadata": {
    "collapsed": true
   },
   "outputs": [],
   "source": []
  },
  {
   "cell_type": "code",
   "execution_count": null,
   "metadata": {
    "collapsed": true
   },
   "outputs": [],
   "source": []
  },
  {
   "cell_type": "code",
   "execution_count": null,
   "metadata": {
    "collapsed": true
   },
   "outputs": [],
   "source": []
  },
  {
   "cell_type": "code",
   "execution_count": null,
   "metadata": {
    "collapsed": true
   },
   "outputs": [],
   "source": []
  },
  {
   "cell_type": "code",
   "execution_count": null,
   "metadata": {
    "collapsed": true
   },
   "outputs": [],
   "source": []
  },
  {
   "cell_type": "code",
   "execution_count": null,
   "metadata": {
    "collapsed": true
   },
   "outputs": [],
   "source": []
  },
  {
   "cell_type": "code",
   "execution_count": null,
   "metadata": {
    "collapsed": true
   },
   "outputs": [],
   "source": []
  },
  {
   "cell_type": "code",
   "execution_count": null,
   "metadata": {
    "collapsed": true
   },
   "outputs": [],
   "source": []
  },
  {
   "cell_type": "code",
   "execution_count": null,
   "metadata": {
    "collapsed": true
   },
   "outputs": [],
   "source": []
  },
  {
   "cell_type": "code",
   "execution_count": null,
   "metadata": {
    "collapsed": true
   },
   "outputs": [],
   "source": []
  },
  {
   "cell_type": "code",
   "execution_count": null,
   "metadata": {
    "collapsed": true
   },
   "outputs": [],
   "source": []
  },
  {
   "cell_type": "code",
   "execution_count": null,
   "metadata": {
    "collapsed": true
   },
   "outputs": [],
   "source": []
  },
  {
   "cell_type": "code",
   "execution_count": null,
   "metadata": {
    "collapsed": true
   },
   "outputs": [],
   "source": []
  },
  {
   "cell_type": "code",
   "execution_count": null,
   "metadata": {
    "collapsed": true
   },
   "outputs": [],
   "source": []
  },
  {
   "cell_type": "code",
   "execution_count": null,
   "metadata": {
    "collapsed": true
   },
   "outputs": [],
   "source": []
  }
 ],
 "metadata": {
  "kernelspec": {
   "display_name": "Python 2",
   "language": "python",
   "name": "python2"
  },
  "language_info": {
   "codemirror_mode": {
    "name": "ipython",
    "version": 2
   },
   "file_extension": ".py",
   "mimetype": "text/x-python",
   "name": "python",
   "nbconvert_exporter": "python",
   "pygments_lexer": "ipython2",
   "version": "2.7.12"
  }
 },
 "nbformat": 4,
 "nbformat_minor": 0
}
